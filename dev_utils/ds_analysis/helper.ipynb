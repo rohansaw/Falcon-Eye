{
 "cells": [
  {
   "cell_type": "code",
   "execution_count": 2,
   "metadata": {},
   "outputs": [
    {
     "name": "stdout",
     "output_type": "stream",
     "text": [
      "{'image_id': 3480, 'bbox': [2261.6080932617188, 1233.1150817871094, 68.25848388671875, 43.01039123535156], 'score': 0.7031220197677612, 'category_id': 2, 'category_name': '2', 'segmentation': [], 'iscrowd': 0, 'area': 2935}\n",
      "{'image_id': 3480, 'bbox': [1877.730224609375, 1617.0383605957031, 68.53985595703125, 43.850341796875], 'score': 0.6352161169052124, 'category_id': 2, 'category_name': '2', 'segmentation': [], 'iscrowd': 0, 'area': 3005}\n",
      "{'image_id': 3480, 'bbox': [1536.0, 2000.1518249511719, 25.87108612060547, 46.071044921875], 'score': 0.5428330898284912, 'category_id': 2, 'category_name': '2', 'segmentation': [], 'iscrowd': 0, 'area': 1191}\n",
      "{'image_id': 3480, 'bbox': [1920.1571645736694, 1615.8569869995117, 26.419564247131348, 45.91766357421875], 'score': 0.47714588046073914, 'category_id': 5, 'category_name': '5', 'segmentation': [], 'iscrowd': 0, 'area': 1213}\n",
      "0\n"
     ]
    }
   ],
   "source": [
    "import json\n",
    "\n",
    "coco_path = \"/scratch1/rsawahn/data/results_coco/slicedTrain_fullEval/efficientdet_sds-sliced-new_new_fullImgEval/sahi_sf_overlap_full.json\"\n",
    "\n",
    "with open(coco_path) as f:\n",
    "    coco = json.load(f)\n",
    "    #print(i[\"bbox\"])\n",
    "    count = 0\n",
    "    for i in coco:\n",
    "        if i[\"image_id\"] == 3480:\n",
    "            if i['score'] > 0.2:\n",
    "                print(i)\n",
    "        \n",
    "                \n",
    "    print(count)\n",
    "\n",
    "\n"
   ]
  },
  {
   "cell_type": "code",
   "execution_count": 3,
   "metadata": {},
   "outputs": [
    {
     "name": "stdout",
     "output_type": "stream",
     "text": [
      "{'id': 14849, 'image_id': 3476, 'bbox': [1141, 705, 155, 32], 'area': 4960, 'category_id': 2, 'iscrowd': 0}\n",
      "{'id': 14851, 'image_id': 3476, 'bbox': [1161, 764, 20, 16], 'area': 320, 'category_id': 1, 'iscrowd': 0}\n",
      "{'id': 14852, 'image_id': 3476, 'bbox': [2080, 1436, 127, 112], 'area': 14224, 'category_id': 1, 'iscrowd': 0}\n"
     ]
    }
   ],
   "source": [
    "coco_gt_path = \"/scratch1/rsawahn/data/sds/coco/annotations/instances_val.json\"\n",
    "\n",
    "with open(coco_gt_path) as f:\n",
    "    coco_gt = json.load(f)\n",
    "    for ann in coco_gt[\"annotations\"]:\n",
    "        if ann[\"image_id\"] == 3476:\n",
    "            print(ann)"
   ]
  },
  {
   "cell_type": "code",
   "execution_count": null,
   "metadata": {},
   "outputs": [],
   "source": [
    "{'image_id': 3480, 'bbox': [2261.6080932617188, 1233.1150817871094, 68.25848388671875, 43.01039123535156], 'score': 0.7031220197677612, 'category_id': 2, 'category_name': '2', 'segmentation': [], 'iscrowd': 0, 'area': 2935}\n",
    "{'image_id': 3480, 'bbox': [1877.730224609375, 1617.0383605957031, 68.53985595703125, 43.850341796875], 'score': 0.6352161169052124, 'category_id': 2, 'category_name': '2', 'segmentation': [], 'iscrowd': 0, 'area': 3005}\n",
    "{'image_id': 3480, 'bbox': [1536.0, 2000.1518249511719, 25.87108612060547, 46.071044921875], 'score': 0.5428330898284912, 'category_id': 2, 'cat"
   ]
  },
  {
   "cell_type": "code",
   "execution_count": 8,
   "metadata": {},
   "outputs": [
    {
     "name": "stdout",
     "output_type": "stream",
     "text": [
      "{'height': 512, 'width': 512, 'id': 2269, 'file_name': '2022-10-12T14-15-51.684695_0_0_512_512.png'}\n",
      "{'height': 512, 'width': 512, 'id': 2270, 'file_name': '2022-10-12T14-15-51.684695_384_0_896_512.png'}\n",
      "{'height': 512, 'width': 512, 'id': 2271, 'file_name': '2022-10-12T14-15-51.684695_768_0_1280_512.png'}\n",
      "{'height': 512, 'width': 512, 'id': 2272, 'file_name': '2022-10-12T14-15-51.684695_1152_0_1664_512.png'}\n",
      "{'height': 512, 'width': 512, 'id': 2273, 'file_name': '2022-10-12T14-15-51.684695_1536_0_2048_512.png'}\n",
      "{'height': 512, 'width': 512, 'id': 2274, 'file_name': '2022-10-12T14-15-51.684695_1920_0_2432_512.png'}\n",
      "{'height': 512, 'width': 512, 'id': 2275, 'file_name': '2022-10-12T14-15-51.684695_2304_0_2816_512.png'}\n",
      "{'height': 512, 'width': 512, 'id': 2276, 'file_name': '2022-10-12T14-15-51.684695_2688_0_3200_512.png'}\n",
      "{'height': 512, 'width': 512, 'id': 2277, 'file_name': '2022-10-12T14-15-51.684695_2768_0_3280_512.png'}\n",
      "{'height': 512, 'width': 512, 'id': 2278, 'file_name': '2022-10-12T14-15-51.684695_0_384_512_896.png'}\n",
      "{'height': 512, 'width': 512, 'id': 2279, 'file_name': '2022-10-12T14-15-51.684695_384_384_896_896.png'}\n",
      "{'height': 512, 'width': 512, 'id': 2280, 'file_name': '2022-10-12T14-15-51.684695_768_384_1280_896.png'}\n",
      "{'height': 512, 'width': 512, 'id': 2281, 'file_name': '2022-10-12T14-15-51.684695_1152_384_1664_896.png'}\n",
      "{'height': 512, 'width': 512, 'id': 2282, 'file_name': '2022-10-12T14-15-51.684695_1536_384_2048_896.png'}\n",
      "{'height': 512, 'width': 512, 'id': 2283, 'file_name': '2022-10-12T14-15-51.684695_1920_384_2432_896.png'}\n",
      "{'height': 512, 'width': 512, 'id': 2284, 'file_name': '2022-10-12T14-15-51.684695_2304_384_2816_896.png'}\n",
      "{'height': 512, 'width': 512, 'id': 2285, 'file_name': '2022-10-12T14-15-51.684695_2688_384_3200_896.png'}\n",
      "{'height': 512, 'width': 512, 'id': 2286, 'file_name': '2022-10-12T14-15-51.684695_2768_384_3280_896.png'}\n",
      "{'height': 512, 'width': 512, 'id': 2287, 'file_name': '2022-10-12T14-15-51.684695_0_768_512_1280.png'}\n",
      "{'height': 512, 'width': 512, 'id': 2288, 'file_name': '2022-10-12T14-15-51.684695_384_768_896_1280.png'}\n",
      "{'height': 512, 'width': 512, 'id': 2289, 'file_name': '2022-10-12T14-15-51.684695_768_768_1280_1280.png'}\n",
      "{'height': 512, 'width': 512, 'id': 2290, 'file_name': '2022-10-12T14-15-51.684695_1152_768_1664_1280.png'}\n",
      "{'height': 512, 'width': 512, 'id': 2291, 'file_name': '2022-10-12T14-15-51.684695_1536_768_2048_1280.png'}\n",
      "{'height': 512, 'width': 512, 'id': 2292, 'file_name': '2022-10-12T14-15-51.684695_1920_768_2432_1280.png'}\n",
      "{'height': 512, 'width': 512, 'id': 2293, 'file_name': '2022-10-12T14-15-51.684695_2304_768_2816_1280.png'}\n",
      "{'height': 512, 'width': 512, 'id': 2294, 'file_name': '2022-10-12T14-15-51.684695_2688_768_3200_1280.png'}\n",
      "{'height': 512, 'width': 512, 'id': 2295, 'file_name': '2022-10-12T14-15-51.684695_2768_768_3280_1280.png'}\n",
      "{'height': 512, 'width': 512, 'id': 2296, 'file_name': '2022-10-12T14-15-51.684695_0_1152_512_1664.png'}\n",
      "{'height': 512, 'width': 512, 'id': 2297, 'file_name': '2022-10-12T14-15-51.684695_384_1152_896_1664.png'}\n",
      "{'height': 512, 'width': 512, 'id': 2298, 'file_name': '2022-10-12T14-15-51.684695_768_1152_1280_1664.png'}\n",
      "{'height': 512, 'width': 512, 'id': 2299, 'file_name': '2022-10-12T14-15-51.684695_1152_1152_1664_1664.png'}\n",
      "{'height': 512, 'width': 512, 'id': 2300, 'file_name': '2022-10-12T14-15-51.684695_1536_1152_2048_1664.png'}\n",
      "{'height': 512, 'width': 512, 'id': 2301, 'file_name': '2022-10-12T14-15-51.684695_1920_1152_2432_1664.png'}\n",
      "{'height': 512, 'width': 512, 'id': 2302, 'file_name': '2022-10-12T14-15-51.684695_2304_1152_2816_1664.png'}\n",
      "{'height': 512, 'width': 512, 'id': 2303, 'file_name': '2022-10-12T14-15-51.684695_2688_1152_3200_1664.png'}\n",
      "{'height': 512, 'width': 512, 'id': 2304, 'file_name': '2022-10-12T14-15-51.684695_2768_1152_3280_1664.png'}\n",
      "{'height': 512, 'width': 512, 'id': 2305, 'file_name': '2022-10-12T14-15-51.684695_0_1536_512_2048.png'}\n",
      "{'height': 512, 'width': 512, 'id': 2306, 'file_name': '2022-10-12T14-15-51.684695_384_1536_896_2048.png'}\n",
      "{'height': 512, 'width': 512, 'id': 2307, 'file_name': '2022-10-12T14-15-51.684695_768_1536_1280_2048.png'}\n",
      "{'height': 512, 'width': 512, 'id': 2308, 'file_name': '2022-10-12T14-15-51.684695_1152_1536_1664_2048.png'}\n",
      "{'height': 512, 'width': 512, 'id': 2309, 'file_name': '2022-10-12T14-15-51.684695_1536_1536_2048_2048.png'}\n",
      "{'height': 512, 'width': 512, 'id': 2310, 'file_name': '2022-10-12T14-15-51.684695_1920_1536_2432_2048.png'}\n",
      "{'height': 512, 'width': 512, 'id': 2311, 'file_name': '2022-10-12T14-15-51.684695_2304_1536_2816_2048.png'}\n",
      "{'height': 512, 'width': 512, 'id': 2312, 'file_name': '2022-10-12T14-15-51.684695_2688_1536_3200_2048.png'}\n",
      "{'height': 512, 'width': 512, 'id': 2313, 'file_name': '2022-10-12T14-15-51.684695_2768_1536_3280_2048.png'}\n",
      "{'height': 512, 'width': 512, 'id': 2314, 'file_name': '2022-10-12T14-15-51.684695_0_1920_512_2432.png'}\n",
      "{'height': 512, 'width': 512, 'id': 2315, 'file_name': '2022-10-12T14-15-51.684695_384_1920_896_2432.png'}\n",
      "{'height': 512, 'width': 512, 'id': 2316, 'file_name': '2022-10-12T14-15-51.684695_768_1920_1280_2432.png'}\n",
      "{'height': 512, 'width': 512, 'id': 2317, 'file_name': '2022-10-12T14-15-51.684695_1152_1920_1664_2432.png'}\n",
      "{'height': 512, 'width': 512, 'id': 2318, 'file_name': '2022-10-12T14-15-51.684695_1536_1920_2048_2432.png'}\n",
      "{'height': 512, 'width': 512, 'id': 2319, 'file_name': '2022-10-12T14-15-51.684695_1920_1920_2432_2432.png'}\n",
      "{'height': 512, 'width': 512, 'id': 2320, 'file_name': '2022-10-12T14-15-51.684695_2304_1920_2816_2432.png'}\n",
      "{'height': 512, 'width': 512, 'id': 2321, 'file_name': '2022-10-12T14-15-51.684695_2688_1920_3200_2432.png'}\n",
      "{'height': 512, 'width': 512, 'id': 2322, 'file_name': '2022-10-12T14-15-51.684695_2768_1920_3280_2432.png'}\n",
      "{'height': 512, 'width': 512, 'id': 2323, 'file_name': '2022-10-12T14-15-51.684695_0_1952_512_2464.png'}\n",
      "{'height': 512, 'width': 512, 'id': 2324, 'file_name': '2022-10-12T14-15-51.684695_384_1952_896_2464.png'}\n",
      "{'height': 512, 'width': 512, 'id': 2325, 'file_name': '2022-10-12T14-15-51.684695_768_1952_1280_2464.png'}\n",
      "{'height': 512, 'width': 512, 'id': 2326, 'file_name': '2022-10-12T14-15-51.684695_1152_1952_1664_2464.png'}\n",
      "{'height': 512, 'width': 512, 'id': 2327, 'file_name': '2022-10-12T14-15-51.684695_1536_1952_2048_2464.png'}\n",
      "{'height': 512, 'width': 512, 'id': 2328, 'file_name': '2022-10-12T14-15-51.684695_1920_1952_2432_2464.png'}\n",
      "{'height': 512, 'width': 512, 'id': 2329, 'file_name': '2022-10-12T14-15-51.684695_2304_1952_2816_2464.png'}\n",
      "{'height': 512, 'width': 512, 'id': 2330, 'file_name': '2022-10-12T14-15-51.684695_2688_1952_3200_2464.png'}\n",
      "{'height': 512, 'width': 512, 'id': 2331, 'file_name': '2022-10-12T14-15-51.684695_2768_1952_3280_2464.png'}\n"
     ]
    }
   ],
   "source": [
    "p = \"/scratch1/rsawahn/data/sw_sliced/coco/annotations/instances_val.json\"\n",
    "import json\n",
    "with open(p) as f:\n",
    "    coco = json.load(f)\n",
    "    #print(coco[\"images\"][:20])\n",
    "    for img in coco[\"images\"]:\n",
    "        #if img[\"file_name\"] starts with 3473 print the filename\n",
    "        if \"2022-10-12T14-15-51\" in img[\"file_name\"]:\n",
    "            print(img)\n",
    "#     for img in coco[\"images\"]:\n",
    "#         #if img[\"file_name\"] starts with 3473 print the filename\n",
    "#         if \"3473\" in img[\"file_name\"]:\n",
    "#             print(img)\n",
    "            \n",
    "# p2 = \"/home/rsawahn/thesis/tiny-od-on-edge/baselines/efficientdet/testdev_output_sds_sliced_new/detections_test-dev2017_test_results.json\"\n",
    "\n",
    "# with open(p2) as f:\n",
    "#     coco2 = json.load(f)\n",
    "#     for img in coco2[\"images\"]:\n",
    "#         #if img[\"file_name\"] starts with 3473 print the filename\n",
    "#         if \"3473\" in img[\"file_name\"]:\n",
    "#             print(img[\"file_name\"])\n"
   ]
  },
  {
   "cell_type": "code",
   "execution_count": null,
   "metadata": {},
   "outputs": [],
   "source": []
  }
 ],
 "metadata": {
  "kernelspec": {
   "display_name": "Python 3",
   "language": "python",
   "name": "python3"
  },
  "language_info": {
   "codemirror_mode": {
    "name": "ipython",
    "version": 3
   },
   "file_extension": ".py",
   "mimetype": "text/x-python",
   "name": "python",
   "nbconvert_exporter": "python",
   "pygments_lexer": "ipython3",
   "version": "3.10.12"
  }
 },
 "nbformat": 4,
 "nbformat_minor": 2
}
