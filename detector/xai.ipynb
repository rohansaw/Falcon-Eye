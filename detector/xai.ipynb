{
 "cells": [
  {
   "cell_type": "code",
   "execution_count": 2,
   "metadata": {},
   "outputs": [
    {
     "ename": "ModuleNotFoundError",
     "evalue": "No module named 'pytorch_grad_cam'",
     "output_type": "error",
     "traceback": [
      "\u001b[0;31m---------------------------------------------------------------------------\u001b[0m",
      "\u001b[0;31mModuleNotFoundError\u001b[0m                       Traceback (most recent call last)",
      "Cell \u001b[0;32mIn[2], line 1\u001b[0m\n\u001b[0;32m----> 1\u001b[0m \u001b[38;5;28;01mfrom\u001b[39;00m \u001b[38;5;21;01mpytorch_grad_cam\u001b[39;00m \u001b[38;5;28;01mimport\u001b[39;00m GradCAM, ScoreCAM\n\u001b[1;32m      2\u001b[0m \u001b[38;5;28;01mfrom\u001b[39;00m \u001b[38;5;21;01mpytorch_grad_cam\u001b[39;00m\u001b[38;5;21;01m.\u001b[39;00m\u001b[38;5;21;01mutils\u001b[39;00m\u001b[38;5;21;01m.\u001b[39;00m\u001b[38;5;21;01mmodel_targets\u001b[39;00m \u001b[38;5;28;01mimport\u001b[39;00m (\n\u001b[1;32m      3\u001b[0m     ClassifierOutputTarget,\n\u001b[1;32m      4\u001b[0m     SemanticSegmentationTarget,\n\u001b[1;32m      5\u001b[0m )\n\u001b[1;32m      7\u001b[0m \u001b[38;5;28;01mfrom\u001b[39;00m \u001b[38;5;21;01mpytorch_grad_cam\u001b[39;00m\u001b[38;5;21;01m.\u001b[39;00m\u001b[38;5;21;01mutils\u001b[39;00m\u001b[38;5;21;01m.\u001b[39;00m\u001b[38;5;21;01mimage\u001b[39;00m \u001b[38;5;28;01mimport\u001b[39;00m show_cam_on_image\n",
      "\u001b[0;31mModuleNotFoundError\u001b[0m: No module named 'pytorch_grad_cam'"
     ]
    }
   ],
   "source": [
    "from pytorch_grad_cam import GradCAM, ScoreCAM\n",
    "from pytorch_grad_cam.utils.model_targets import (\n",
    "    ClassifierOutputTarget,\n",
    "    SemanticSegmentationTarget,\n",
    ")\n",
    "\n",
    "from pytorch_grad_cam.utils.image import show_cam_on_image\n",
    "from model import Detector\n",
    "import torch\n",
    "from backends.mobileone import mobileone, reparameterize_model\n",
    "from heads.fcn_head import FCNHead\n",
    "from torchvision.transforms import v2\n",
    "from PIL import Image\n",
    "import numpy as np\n",
    "import os\n",
    "import json\n",
    "\n",
    "num_classes = 1\n",
    "device = \"cpu\"\n",
    "input_shape = (3, 512, 512)  # Desired shape for the model input\n",
    "images_path = \"/data/sw_sliced_centered/coco/val\"\n",
    "#img_path = \"/home/rohan/Documents/Uni/MA/raspi/images/1230.png\"\n",
    "checkpoint = \"artifacts/model-596kp70e:v32/model.ckpt\"\n",
    "mean = [0.2761, 0.4251, 0.5644]\n",
    "std = [0.2060, 0.1864, 0.2218]\n",
    "scale_factor = 0.125\n",
    "\n",
    "\n",
    "coco_ann_path = \"/data/sw_sliced_centered/coco/annotations/instances_val.json\"\n",
    "with open(coco_ann_path, \"r\") as f:\n",
    "    coco = json.load(f)\n",
    "    ann = coco[\"annotations\"][120]\n",
    "    image_id = ann[\"image_id\"]\n",
    "    fp = [img[\"file_name\"] for img in coco[\"images\"] if img[\"id\"] == image_id][0]\n",
    "    \n",
    "    img_path = os.path.join(images_path, fp)\n",
    "\n",
    "#img_path = os.path.join(images_path, os.listdir(images_path)[0])\n",
    "\n",
    "backend = mobileone(variant=\"s0\")\n",
    "backend.truncate(2)\n",
    "\n",
    "feat_map_shape = backend.get_feature_map_shape(input_shape)\n",
    "head = FCNHead(\n",
    "    num_classes=num_classes, in_channels=feat_map_shape[0], middle_channels=32\n",
    ")\n",
    "\n",
    "model = (\n",
    "    Detector.load_from_checkpoint(checkpoint, head=head, backend=backend)\n",
    "    .type(torch.FloatTensor)\n",
    "    .to(device)\n",
    ")\n",
    "\n",
    "transforms = v2.Compose(\n",
    "    [\n",
    "        v2.Resize(\n",
    "            input_shape[1:]\n",
    "        ),  # Ensuring input image is resized to the same size as input_shape\n",
    "        v2.ToTensor(),\n",
    "        v2.Normalize(mean=mean, std=std),\n",
    "    ]\n",
    ")"
   ]
  },
  {
   "cell_type": "code",
   "execution_count": null,
   "metadata": {},
   "outputs": [],
   "source": [
    "img = Image.open(img_path)"
   ]
  },
  {
   "cell_type": "code",
   "execution_count": null,
   "metadata": {},
   "outputs": [],
   "source": [
    "print(model)"
   ]
  },
  {
   "cell_type": "code",
   "execution_count": null,
   "metadata": {},
   "outputs": [],
   "source": [
    "target_layers = [model.backend]\n",
    "\n",
    "input_tensor = torch.unsqueeze(transforms(img).to(device), 0)\n",
    "\n",
    "class SemanticSegmentationTarget:\n",
    "    def __init__(self, category, mask):\n",
    "        self.category = category\n",
    "        self.mask = torch.from_numpy(mask)\n",
    "        if torch.cuda.is_available():\n",
    "            self.mask = self.mask.cuda()\n",
    "        \n",
    "    def __call__(self, model_output):\n",
    "        return (model_output[self.category, :, : ] * self.mask).sum()\n",
    "\n",
    "    \n",
    "target_layers = [model.backend]\n",
    "targets = [SemanticSegmentationTarget(0, boat_mask)]\n",
    "with GradCAM(model=model,\n",
    "             target_layers=target_layers,\n",
    "             use_cuda=torch.cuda.is_available()) as cam:\n",
    "    grayscale_cam = cam(input_tensor=input_tensor,\n",
    "                        targets=targets)[0, :]\n",
    "    cam_image = show_cam_on_image(img, grayscale_cam, use_rgb=True)\n",
    "\n",
    "Image.fromarray(cam_image)\n",
    "    "
   ]
  }
 ],
 "metadata": {
  "kernelspec": {
   "display_name": ".venv",
   "language": "python",
   "name": "python3"
  },
  "language_info": {
   "codemirror_mode": {
    "name": "ipython",
    "version": 3
   },
   "file_extension": ".py",
   "mimetype": "text/x-python",
   "name": "python",
   "nbconvert_exporter": "python",
   "pygments_lexer": "ipython3",
   "version": "3.10.12"
  }
 },
 "nbformat": 4,
 "nbformat_minor": 2
}
